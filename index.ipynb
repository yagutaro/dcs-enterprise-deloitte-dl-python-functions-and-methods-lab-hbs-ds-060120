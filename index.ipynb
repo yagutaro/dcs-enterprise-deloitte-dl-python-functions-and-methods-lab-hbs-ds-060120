{
 "cells": [
  {
   "cell_type": "markdown",
   "metadata": {},
   "source": [
    "# Built-in Python Operators, Functions and Methods - Lab\n",
    "\n",
    "## Introduction\n",
    "We've looked at some of the built-in methods, functions, and the operators in Python. These are all very powerful tools we can (and will) use in our code. Below, we'll put these new tools to use to solve the tests in this lab.\n",
    "\n",
    "## Objectives\n",
    "You will be able to:\n",
    "* Use methods and functions in standard Python from the last lesson\n",
    "\n",
    "## Instructions\n",
    "\n",
    "Let's start by using some built-in functions and methods. Employ the appropriate functions and methods to get the intended result."
   ]
  },
  {
   "cell_type": "code",
   "execution_count": null,
   "metadata": {},
   "outputs": [],
   "source": [
    "# Desired output: \"HELLO, THERE\"\n",
    "yell_hello = \"hello, there\" \n",
    "yell_hello"
   ]
  },
  {
   "cell_type": "code",
   "execution_count": null,
   "metadata": {},
   "outputs": [],
   "source": [
    "# Desired output: \"psst, hey\"\n",
    "whisper_hey = \"PSST, HEY\" \n",
    "whisper_hey"
   ]
  },
  {
   "cell_type": "code",
   "execution_count": null,
   "metadata": {},
   "outputs": [],
   "source": [
    "# Desired output: \"Learn. Love. Code\"\n",
    "flatiorn_mantra = \"LEARN. LOVE. CODE.\" \n",
    "flatiorn_mantra"
   ]
  },
  {
   "cell_type": "code",
   "execution_count": null,
   "metadata": {},
   "outputs": [],
   "source": [
    "# Desired output: str\n",
    "type_string = \"i'm a string\" \n",
    "type_string"
   ]
  },
  {
   "cell_type": "code",
   "execution_count": null,
   "metadata": {},
   "outputs": [],
   "source": [
    "# Desired output: list\n",
    "type_list = [\"i'm\", \"a\", \"list\"] \n",
    "type_list"
   ]
  },
  {
   "cell_type": "code",
   "execution_count": null,
   "metadata": {},
   "outputs": [],
   "source": [
    "# Desired output: 3\n",
    "lenght_of_list = [\"i'm\", \"a\", \"list\"] \n",
    "lenght_of_list"
   ]
  },
  {
   "cell_type": "code",
   "execution_count": null,
   "metadata": {},
   "outputs": [],
   "source": [
    "# Desired output: \"list\"\n",
    "longest_word_in_list = [\"i'm\", \"a\", \"list\"]\n",
    "longest_word_in_list"
   ]
  },
  {
   "cell_type": "code",
   "execution_count": null,
   "metadata": {},
   "outputs": [],
   "source": [
    "# Desired output: 1\n",
    "smallest_number = [1, 3, 4, 78]\n",
    "smallest_number"
   ]
  },
  {
   "cell_type": "code",
   "execution_count": null,
   "metadata": {},
   "outputs": [],
   "source": [
    "# Desired output: 11\n",
    "sum_of_numbers = [1, 2, 3, 5]\n",
    "sum_of_numbers"
   ]
  },
  {
   "cell_type": "markdown",
   "metadata": {},
   "source": [
    "Uncomment the code in each cell as you start working on them. For example, when you begin working on the first cell, remove `#` at the start of each line.  \n",
    "\n",
    "> **Note:** The `cmd+?` keyboard shortcut comments or uncomments a given line of code!\n",
    "\n",
    "Replace `[COMPARISON]`, with the correct comparison operator to get the desired output, which you will find as a comment at the end of each line. See the example below.\n",
    "\n",
    "```python\n",
    "# boolean_compare = False [COMPARISON] True # True \n",
    "=> boolean_compare = False != True # True\n",
    "OR\n",
    "=> boolean_compare = False != True\n",
    "```\n",
    "\n",
    "Once uncommented, you can check the output to see if your comparisons match the answers provided in the ending comments."
   ]
  },
  {
   "cell_type": "markdown",
   "metadata": {},
   "source": [
    "> **Remember** the comparison operators are: `==`, `!=`, `<`, `>`, `<=`, `>=`"
   ]
  },
  {
   "cell_type": "code",
   "execution_count": null,
   "metadata": {},
   "outputs": [],
   "source": [
    "# boolean_compare = True [COMPARISON] True # False\n",
    "# boolean_compare2 = False [COMPARISON] True # False\n",
    "# print(boolean_compare, boolean_compare2)"
   ]
  },
  {
   "cell_type": "code",
   "execution_count": null,
   "metadata": {},
   "outputs": [],
   "source": [
    "# number_compare = 10 [COMPARISON] 10 # True\n",
    "# number_compare2 = -20 [COMPARISON] 30 # True\n",
    "# number_compare3 = 4 [COMPARISON] 5 # False\n",
    "# print(number_compare, number_compare2, number_compare3)"
   ]
  },
  {
   "cell_type": "code",
   "execution_count": null,
   "metadata": {},
   "outputs": [],
   "source": [
    "# string_compare = \"stacy\" [COMPARISON] \"STACY\" # True\n",
    "# string_compare2 = \"hey i love python!\" [COMPARISON] \"hi love python\" # False\n",
    "# string_compare3 = \"this string is bigger than the other\" [COMPARISON] \"that is true\" # True\n",
    "# print(string_compare, string_compare2, string_compare3)"
   ]
  },
  {
   "cell_type": "markdown",
   "metadata": {},
   "source": [
    "In the next section, do not use either `==` or `!=` operators"
   ]
  },
  {
   "cell_type": "code",
   "execution_count": null,
   "metadata": {
    "scrolled": true
   },
   "outputs": [],
   "source": [
    "# list_compare = [0,0,0,0] [COMPARISON] [0,0,0] # True\n",
    "# list_compare2 = [1,0,0] [COMPARISON] [0,0,0] # True\n",
    "# list_compare3 = [0,0,0] [COMPARISON] [0,0,3] # False\n",
    "# list_compare4 = [0,0,3,0] [COMPARISON] [0,0,3] # True\n",
    "# list_compare5 = [0,0,4,0] [COMPARISON] [0,0,3] # False\n",
    "# print(list_compare, list_compare2, list_compare3, list_compare4, list_compare5)"
   ]
  },
  {
   "cell_type": "markdown",
   "metadata": {},
   "source": [
    "### Practicing Identity and Logical Operators"
   ]
  },
  {
   "cell_type": "markdown",
   "metadata": {},
   "source": [
    "In this next section, use the identity and logical operators to get the desired output as you did in the examples above using the comparison operators."
   ]
  },
  {
   "cell_type": "markdown",
   "metadata": {},
   "source": [
    "> **Remember** the **logical operators** are `and`, `or`, & `not`; and the **identity operators** are `is` & `is not`"
   ]
  },
  {
   "cell_type": "markdown",
   "metadata": {},
   "source": [
    "Use logical opertors for this section"
   ]
  },
  {
   "cell_type": "code",
   "execution_count": null,
   "metadata": {},
   "outputs": [],
   "source": [
    "# logical_compare = 2 [COMPARISON] [] # []\n",
    "# logical_compare2 = [COMPARISON] [] # True\n",
    "# logical_compare3 = 0 [COMPARISON] [] # 0\n",
    "# logical_compare4 = True [COMPARISON] 2 # 2\n",
    "# logical_compare5 = 2 [COMPARISON] 3 # 2\n",
    "# logical_compare6 = [COMPARISON] True # False\n",
    "# logical_compare7 = False [COMPARISON] 2 # False\n",
    "# print(logical_compare, logical_compare2, logical_compare3, logical_compare4,\n",
    "#       logical_compare5, logical_compare6, logical_compare7)"
   ]
  },
  {
   "cell_type": "markdown",
   "metadata": {},
   "source": [
    "Use identity opertors for this section"
   ]
  },
  {
   "cell_type": "code",
   "execution_count": null,
   "metadata": {},
   "outputs": [],
   "source": [
    "# a = []\n",
    "# b = a\n",
    "# identity_compare = {} [COMPARISON] {} # False\n",
    "# identity_compare2 = a [COMPARISON] b # True\n",
    "# identity_compare3 = b [COMPARISON] [] # True\n",
    "# identity_compare4 = 9 [COMPARISON] 10 # True\n",
    "# identity_compare5 = \"Same\" [COMPARISON] \"Same\" # False\n",
    "# identity_compare6 = [1,3,4] [COMPARISON] [1,2,3] # False\n",
    "# print(identity_compare, identity_compare2, identity_compare3,\n",
    "#       identity_compare4, identity_compare5, identity_compare6)"
   ]
  },
  {
   "cell_type": "markdown",
   "metadata": {},
   "source": [
    "## Summary\n",
    "Great work! After all that, there's nothing we can't compare. Well, I guess apples and oranges might still be off the table. We practiced using comparison, logical, and identity operators in Python to compare elements of the same and different datatypes and/or values. Going forward, there will be plenty of instances where we will need to compare elements. So, it is important to have a good understanding of how each of these operators works. Don't worry, as with all concepts in programming, the more we work with something the better we understand it. "
   ]
  }
 ],
 "metadata": {
  "kernelspec": {
   "display_name": "Python 3",
   "language": "python",
   "name": "python3"
  },
  "language_info": {
   "codemirror_mode": {
    "name": "ipython",
    "version": 3
   },
   "file_extension": ".py",
   "mimetype": "text/x-python",
   "name": "python",
   "nbconvert_exporter": "python",
   "pygments_lexer": "ipython3",
   "version": "3.6.9"
  }
 },
 "nbformat": 4,
 "nbformat_minor": 2
}
